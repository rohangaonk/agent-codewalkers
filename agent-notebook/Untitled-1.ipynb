{
 "cells": [
  {
   "cell_type": "code",
   "execution_count": 1,
   "metadata": {},
   "outputs": [
    {
     "data": {
      "text/plain": [
       "\u001b[32m\"ntOMyeFRbnbbh9GFXjWQ5uMLIoa08Mvm\"\u001b[39m"
      ]
     },
     "execution_count": 1,
     "metadata": {},
     "output_type": "execute_result"
    }
   ],
   "source": [
    "process.env.LANGSMITH_TRACING = true;\n",
    "process.env.LANGSMITH_ENDPOINT = \"https://api.smith.langchain.com\";\n",
    "process.env.LANGSMITH_API_KEY =\n",
    "  \"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\";\n",
    "process.env.LANGSMITH_PROJECT = \"pr-unhealthy-date-19\";\n",
    "process.env.MISTRAL_API_KEY = \"ntOMyeFRbnbbh9GFXjWQ5uMLIoa08Mvm\";\n"
   ]
  },
  {
   "cell_type": "code",
   "execution_count": 10,
   "metadata": {},
   "outputs": [
    {
     "name": "stdout",
     "output_type": "stream",
     "text": [
      "107\n"
     ]
    }
   ],
   "source": [
    "import \"npm:pdf-parse\";\n",
    "import { PDFLoader } from \"npm:@langchain/community/document_loaders/fs/pdf\";\n",
    "const loader = new PDFLoader(\"nke-10k-2023.pdf\");\n",
    "const docs = await loader.load;\n",
    "console.log(docs.length);\n"
   ]
  },
  {
   "cell_type": "code",
   "execution_count": 11,
   "metadata": {},
   "outputs": [
    {
     "data": {
      "text/plain": [
       "\u001b[32m\"Table of Contents\\n\"\u001b[39m +\n",
       "  \u001b[32m\"UNITED STATES\\n\"\u001b[39m +\n",
       "  \u001b[32m\"SECURITIES AND EXCHANGE COMMISSION\\n\"\u001b[39m +\n",
       "  \u001b[32m\"Washington, D.C. 20549\\n\"\u001b[39m +\n",
       "  \u001b[32m\"FORM 10-K\\n\"\u001b[39m +\n",
       "  \u001b[32m\"(Mark One)\\n\"\u001b[39m +\n",
       "  \u001b[32m\"☑ ANNUAL REPORT PURSUANT TO SECTION 13 OR 15(D) OF THE SECURITIES EXCHANGE ACT OF 1934\\n\"\u001b[39m +\n",
       "  \u001b[32m\"FO\"\u001b[39m"
      ]
     },
     "execution_count": 11,
     "metadata": {},
     "output_type": "execute_result"
    }
   ],
   "source": [
    "docs[0].pageContent.slice(0, 200);\n"
   ]
  },
  {
   "cell_type": "code",
   "execution_count": 12,
   "metadata": {},
   "outputs": [
    {
     "data": {
      "text/plain": [
       "{\n",
       "  source: \u001b[32m\"nke-10k-2023.pdf\"\u001b[39m,\n",
       "  pdf: {\n",
       "    version: \u001b[32m\"1.10.100\"\u001b[39m,\n",
       "    info: {\n",
       "      PDFFormatVersion: \u001b[32m\"1.4\"\u001b[39m,\n",
       "      IsAcroFormPresent: \u001b[33mfalse\u001b[39m,\n",
       "      IsXFAPresent: \u001b[33mfalse\u001b[39m,\n",
       "      Title: \u001b[32m\"0000320187-23-000039\"\u001b[39m,\n",
       "      Author: \u001b[32m\"EDGAR Online, a division of Donnelley Financial Solutions\"\u001b[39m,\n",
       "      Subject: \u001b[32m\"Form 10-K filed on 2023-07-20 for the period ending 2023-05-31\"\u001b[39m,\n",
       "      Keywords: \u001b[32m\"0000320187-23-000039; ; 10-K\"\u001b[39m,\n",
       "      Creator: \u001b[32m\"EDGAR Filing HTML Converter\"\u001b[39m,\n",
       "      Producer: \u001b[32m\"EDGRpdf Service w/ EO.Pdf 22.0.40.0\"\u001b[39m,\n",
       "      CreationDate: \u001b[32m\"D:20230720162200-04'00'\"\u001b[39m,\n",
       "      ModDate: \u001b[32m\"D:20230720162208-04'00'\"\u001b[39m\n",
       "    },\n",
       "    metadata: \u001b[1mnull\u001b[22m,\n",
       "    totalPages: \u001b[33m107\u001b[39m\n",
       "  },\n",
       "  loc: { pageNumber: \u001b[33m1\u001b[39m }\n",
       "}"
      ]
     },
     "execution_count": 12,
     "metadata": {},
     "output_type": "execute_result"
    }
   ],
   "source": [
    "docs[0].metadata;\n"
   ]
  },
  {
   "cell_type": "code",
   "execution_count": null,
   "metadata": {},
   "outputs": [
    {
     "ename": "TypeError",
     "evalue": "JSR package not found: @langchain/textsplitters",
     "output_type": "error",
     "traceback": [
      "Stack trace:",
      "TypeError: JSR package not found: @langchain/textsplitters",
      "    at async <anonymous>:1:65"
     ]
    }
   ],
   "source": [
    "import {} from \"https://deno.land/x/upstash_redis\";\n"
   ]
  },
  {
   "cell_type": "code",
   "execution_count": null,
   "metadata": {},
   "outputs": [],
   "source": []
  }
 ],
 "metadata": {
  "kernelspec": {
   "display_name": "Deno",
   "language": "typescript",
   "name": "deno"
  },
  "language_info": {
   "codemirror_mode": "typescript",
   "file_extension": ".ts",
   "mimetype": "text/x.typescript",
   "name": "typescript",
   "nbconvert_exporter": "script",
   "pygments_lexer": "typescript",
   "version": "5.6.2"
  }
 },
 "nbformat": 4,
 "nbformat_minor": 2
}
